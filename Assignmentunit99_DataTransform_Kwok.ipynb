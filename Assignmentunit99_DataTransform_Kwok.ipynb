{
 "cells": [
  {
   "cell_type": "code",
   "execution_count": 1,
   "metadata": {},
   "outputs": [],
   "source": [
    "#Import libraries\n",
    "\n",
    "import pandas as pd\n",
    "import numpy as np\n",
    "import matplotlib.pyplot as plt\n",
    "import seaborn as sns\n",
    "sns.set()\n",
    "\n",
    "# Set Pandas options to show all columns and rows\n",
    "pd.set_option('display.max_rows', None)\n",
    "pd.set_option('display.max_columns', None)\n",
    "pd.set_option('display.width', None)\n",
    "pd.set_option('display.max_colwidth', None)\n",
    "\n",
    "# Make variable for input file\n",
    "INFILE = \"/Users/jck/Documents/MSDS 422/Unit 2/Assignment 2/HMEQ_Loss.csv\"\n",
    "\n",
    "# Read in the data file\n",
    "df = pd.read_csv(INFILE, sep=',', header=0)"
   ]
  },
  {
   "cell_type": "code",
   "execution_count": 2,
   "metadata": {},
   "outputs": [
    {
     "name": "stdout",
     "output_type": "stream",
     "text": [
      "   TARGET_BAD_FLAG  TARGET_LOSS_AMT  LOAN  MORTDUE     VALUE   REASON     JOB  \\\n",
      "0                1            641.0  1100  25860.0   39025.0  HomeImp   Other   \n",
      "1                1           1109.0  1300  70053.0   68400.0  HomeImp   Other   \n",
      "2                1            767.0  1500  13500.0   16700.0  HomeImp   Other   \n",
      "3                1           1425.0  1500      NaN       NaN      NaN     NaN   \n",
      "4                0              NaN  1700  97800.0  112000.0  HomeImp  Office   \n",
      "\n",
      "    YOJ  DEROG  DELINQ       CLAGE  NINQ  CLNO  DEBTINC  \n",
      "0  10.5    0.0     0.0   94.366667   1.0   9.0      NaN  \n",
      "1   7.0    0.0     2.0  121.833333   0.0  14.0      NaN  \n",
      "2   4.0    0.0     0.0  149.466667   1.0  10.0      NaN  \n",
      "3   NaN    NaN     NaN         NaN   NaN   NaN      NaN  \n",
      "4   3.0    0.0     0.0   93.333333   0.0  14.0      NaN  \n"
     ]
    }
   ],
   "source": [
    "print(df.head(5))"
   ]
  },
  {
   "cell_type": "code",
   "execution_count": 3,
   "metadata": {},
   "outputs": [],
   "source": [
    "cols_with_missing = ['MORTDUE', 'VALUE', 'YOJ', 'DEROG', 'DELINQ', 'CLAGE', 'NINQ', 'CLNO', 'DEBTINC']"
   ]
  },
  {
   "cell_type": "code",
   "execution_count": 4,
   "metadata": {},
   "outputs": [],
   "source": [
    "'''\n",
    "I observed that some data points are outliers, so I plan to employ the Interquartile Range (IQR) method \n",
    "to detect these outliers and substitute them, using the median value for imputation.\n",
    "'''\n",
    "for col in cols_with_missing:\n",
    "    # 1. Identify Outliers using the IQR method\n",
    "    Q1 = df[col].quantile(0.25)\n",
    "    Q3 = df[col].quantile(0.75)\n",
    "    IQR = Q3 - Q1\n",
    "    lower_bound = Q1 - 1.5 * IQR\n",
    "    upper_bound = Q3 + 1.5 * IQR\n",
    "    \n",
    "    # 2. Remove Outliers - Replace outliers in a copy of the column with NaN\n",
    "    temp_col = df[col].copy()\n",
    "    temp_col[(temp_col < lower_bound) | (temp_col > upper_bound)] = np.nan\n",
    "    \n",
    "    # 3. Calculate median of the column with outliers removed\n",
    "    median_val = temp_col.median()\n",
    "    \n",
    "    # 4. Create new column for imputed values, fill missing values with the calculated median\n",
    "    df['IMP_'+col] = df[col].fillna(median_val)"
   ]
  },
  {
   "cell_type": "code",
   "execution_count": 5,
   "metadata": {},
   "outputs": [],
   "source": [
    "X = df.drop(['TARGET_BAD_FLAG', 'TARGET_LOSS_AMT', 'REASON', 'JOB','MORTDUE', 'VALUE', 'YOJ', 'DEROG', 'DELINQ', 'CLAGE', 'NINQ', 'CLNO', 'DEBTINC'], axis=1)\n"
   ]
  },
  {
   "cell_type": "code",
   "execution_count": 6,
   "metadata": {},
   "outputs": [
    {
     "name": "stdout",
     "output_type": "stream",
     "text": [
      "   LOAN  IMP_MORTDUE  IMP_VALUE  IMP_YOJ  IMP_DEROG  IMP_DELINQ   IMP_CLAGE  \\\n",
      "0  1100      25860.0    39025.0     10.5        0.0         0.0   94.366667   \n",
      "1  1300      70053.0    68400.0      7.0        0.0         2.0  121.833333   \n",
      "2  1500      13500.0    16700.0      4.0        0.0         0.0  149.466667   \n",
      "3  1500      63508.0    86908.0      7.0        0.0         0.0  172.432355   \n",
      "4  1700      97800.0   112000.0      3.0        0.0         0.0   93.333333   \n",
      "\n",
      "   IMP_NINQ  IMP_CLNO  IMP_DEBTINC  \n",
      "0       1.0       9.0    34.880462  \n",
      "1       0.0      14.0    34.880462  \n",
      "2       1.0      10.0    34.880462  \n",
      "3       1.0      20.0    34.880462  \n",
      "4       0.0      14.0    34.880462  \n"
     ]
    }
   ],
   "source": [
    "print(X.head(5))"
   ]
  },
  {
   "cell_type": "code",
   "execution_count": 7,
   "metadata": {},
   "outputs": [],
   "source": [
    "import numpy as np\n",
    "import pandas as pd\n",
    "\n",
    "from sklearn.preprocessing import MinMaxScaler\n",
    "from sklearn.preprocessing import StandardScaler\n",
    "varNames = X.columns"
   ]
  },
  {
   "cell_type": "code",
   "execution_count": 8,
   "metadata": {},
   "outputs": [
    {
     "name": "stdout",
     "output_type": "stream",
     "text": [
      " NORMALIZING THE DATA \n",
      "\n",
      "\n",
      "\n",
      "          0         1         2         3    4         5         6         7  \\\n",
      "0  0.000000  0.059869  0.036590  0.256098  0.0  0.000000  0.080777  0.058824   \n",
      "1  0.002252  0.171050  0.071234  0.170732  0.0  0.133333  0.104289  0.000000   \n",
      "2  0.004505  0.028773  0.010261  0.097561  0.0  0.000000  0.127942  0.058824   \n",
      "3  0.004505  0.154584  0.093062  0.170732  0.0  0.000000  0.147601  0.058824   \n",
      "4  0.006757  0.240856  0.122655  0.073171  0.0  0.000000  0.079893  0.000000   \n",
      "\n",
      "          8         9  \n",
      "0  0.126761  0.169418  \n",
      "1  0.197183  0.169418  \n",
      "2  0.140845  0.169418  \n",
      "3  0.281690  0.169418  \n",
      "4  0.197183  0.169418  \n",
      "\n",
      "\n",
      "\n"
     ]
    }
   ],
   "source": [
    "### MIN MAX SCALER\n",
    "print(\" NORMALIZING THE DATA \\n\\n\\n\")\n",
    "theScaler = MinMaxScaler()\n",
    "theScaler.fit( X )\n",
    "\n",
    "X_MINMAX = theScaler.transform( X )\n",
    "X_MINMAX = pd.DataFrame( X_MINMAX )\n",
    "print( X_MINMAX.head() )\n",
    "print( \"\\n\\n\")"
   ]
  },
  {
   "cell_type": "code",
   "execution_count": 9,
   "metadata": {},
   "outputs": [
    {
     "name": "stdout",
     "output_type": "stream",
     "text": [
      "['nor_LOAN', 'nor_IMP_MORTDUE', 'nor_IMP_VALUE', 'nor_IMP_YOJ', 'nor_IMP_DEROG', 'nor_IMP_DELINQ', 'nor_IMP_CLAGE', 'nor_IMP_NINQ', 'nor_IMP_CLNO', 'nor_IMP_DEBTINC']\n",
      "\n",
      "\n",
      "\n"
     ]
    }
   ],
   "source": [
    "varNames_minmax = []\n",
    "for i in varNames :\n",
    "    newName = \"nor_\" + i\n",
    "    varNames_minmax.append( newName )\n",
    "print( varNames_minmax )\n",
    "print( \"\\n\\n\")"
   ]
  },
  {
   "cell_type": "code",
   "execution_count": 10,
   "metadata": {},
   "outputs": [
    {
     "name": "stdout",
     "output_type": "stream",
     "text": [
      "   nor_LOAN  nor_IMP_MORTDUE  nor_IMP_VALUE  nor_IMP_YOJ  nor_IMP_DEROG  \\\n",
      "0  0.000000         0.059869       0.036590     0.256098            0.0   \n",
      "1  0.002252         0.171050       0.071234     0.170732            0.0   \n",
      "2  0.004505         0.028773       0.010261     0.097561            0.0   \n",
      "3  0.004505         0.154584       0.093062     0.170732            0.0   \n",
      "4  0.006757         0.240856       0.122655     0.073171            0.0   \n",
      "\n",
      "   nor_IMP_DELINQ  nor_IMP_CLAGE  nor_IMP_NINQ  nor_IMP_CLNO  nor_IMP_DEBTINC  \n",
      "0        0.000000       0.080777      0.058824      0.126761         0.169418  \n",
      "1        0.133333       0.104289      0.000000      0.197183         0.169418  \n",
      "2        0.000000       0.127942      0.058824      0.140845         0.169418  \n",
      "3        0.000000       0.147601      0.058824      0.281690         0.169418  \n",
      "4        0.000000       0.079893      0.000000      0.197183         0.169418  \n",
      "\n",
      "\n",
      "\n"
     ]
    }
   ],
   "source": [
    "X_MINMAX.columns = varNames_minmax\n",
    "print( X_MINMAX.head() )\n",
    "print( \"\\n\\n\")"
   ]
  },
  {
   "cell_type": "code",
   "execution_count": 11,
   "metadata": {},
   "outputs": [
    {
     "name": "stdout",
     "output_type": "stream",
     "text": [
      "   nor_LOAN  nor_IMP_MORTDUE  nor_IMP_VALUE  nor_IMP_YOJ  nor_IMP_DEROG  \\\n",
      "0  0.000000         0.059869       0.036590     0.256098            0.0   \n",
      "1  0.002252         0.171050       0.071234     0.170732            0.0   \n",
      "2  0.004505         0.028773       0.010261     0.097561            0.0   \n",
      "3  0.004505         0.154584       0.093062     0.170732            0.0   \n",
      "4  0.006757         0.240856       0.122655     0.073171            0.0   \n",
      "\n",
      "   nor_IMP_DELINQ  nor_IMP_CLAGE  nor_IMP_NINQ  nor_IMP_CLNO  nor_IMP_DEBTINC  \\\n",
      "0        0.000000       0.080777      0.058824      0.126761         0.169418   \n",
      "1        0.133333       0.104289      0.000000      0.197183         0.169418   \n",
      "2        0.000000       0.127942      0.058824      0.140845         0.169418   \n",
      "3        0.000000       0.147601      0.058824      0.281690         0.169418   \n",
      "4        0.000000       0.079893      0.000000      0.197183         0.169418   \n",
      "\n",
      "   TARGET  TARGET2   REASON     JOB  \n",
      "0       1    641.0  HomeImp   Other  \n",
      "1       1   1109.0  HomeImp   Other  \n",
      "2       1    767.0  HomeImp   Other  \n",
      "3       1   1425.0      NaN     NaN  \n",
      "4       0      NaN  HomeImp  Office  \n",
      "\n",
      "\n",
      "\n"
     ]
    }
   ],
   "source": [
    "X_MINMAX[ \"TARGET\" ] = df.TARGET_BAD_FLAG\n",
    "X_MINMAX[ \"TARGET2\" ] = df.TARGET_LOSS_AMT\n",
    "X_MINMAX[ \"REASON\" ] = df.REASON\n",
    "X_MINMAX[ \"JOB\" ] = df.JOB\n",
    "\n",
    "print( X_MINMAX.head() )\n",
    "print( \"\\n\\n\")"
   ]
  },
  {
   "cell_type": "code",
   "execution_count": 12,
   "metadata": {},
   "outputs": [
    {
     "name": "stdout",
     "output_type": "stream",
     "text": [
      "   LOAN  IMP_MORTDUE  IMP_VALUE  IMP_YOJ  IMP_DEROG  IMP_DELINQ   IMP_CLAGE  \\\n",
      "0  1100      25860.0    39025.0     10.5        0.0         0.0   94.366667   \n",
      "1  1300      70053.0    68400.0      7.0        0.0         2.0  121.833333   \n",
      "2  1500      13500.0    16700.0      4.0        0.0         0.0  149.466667   \n",
      "3  1500      63508.0    86908.0      7.0        0.0         0.0  172.432355   \n",
      "4  1700      97800.0   112000.0      3.0        0.0         0.0   93.333333   \n",
      "\n",
      "   IMP_NINQ  IMP_CLNO  IMP_DEBTINC  nor_LOAN  nor_IMP_MORTDUE  nor_IMP_VALUE  \\\n",
      "0       1.0       9.0    34.880462  0.000000         0.059869       0.036590   \n",
      "1       0.0      14.0    34.880462  0.002252         0.171050       0.071234   \n",
      "2       1.0      10.0    34.880462  0.004505         0.028773       0.010261   \n",
      "3       1.0      20.0    34.880462  0.004505         0.154584       0.093062   \n",
      "4       0.0      14.0    34.880462  0.006757         0.240856       0.122655   \n",
      "\n",
      "   nor_IMP_YOJ  nor_IMP_DEROG  nor_IMP_DELINQ  nor_IMP_CLAGE  nor_IMP_NINQ  \\\n",
      "0     0.256098            0.0        0.000000       0.080777      0.058824   \n",
      "1     0.170732            0.0        0.133333       0.104289      0.000000   \n",
      "2     0.097561            0.0        0.000000       0.127942      0.058824   \n",
      "3     0.170732            0.0        0.000000       0.147601      0.058824   \n",
      "4     0.073171            0.0        0.000000       0.079893      0.000000   \n",
      "\n",
      "   nor_IMP_CLNO  nor_IMP_DEBTINC  TARGET  TARGET2   REASON     JOB  \n",
      "0      0.126761         0.169418       1    641.0  HomeImp   Other  \n",
      "1      0.197183         0.169418       1   1109.0  HomeImp   Other  \n",
      "2      0.140845         0.169418       1    767.0  HomeImp   Other  \n",
      "3      0.281690         0.169418       1   1425.0      NaN     NaN  \n",
      "4      0.197183         0.169418       0      NaN  HomeImp  Office  \n",
      "\n",
      "\n",
      "\n",
      "   IMP_MORTDUE  nor_IMP_MORTDUE\n",
      "0      25860.0         0.059869\n",
      "1      70053.0         0.171050\n",
      "2      13500.0         0.028773\n",
      "3      63508.0         0.154584\n",
      "4      97800.0         0.240856\n",
      "\n",
      "\n",
      "\n"
     ]
    }
   ],
   "source": [
    "X_NEW = pd.concat([ X , X_MINMAX ], axis=1 )\n",
    "print( X_NEW.head() )\n",
    "print( \"\\n\\n\")\n",
    "X_TEST = X_NEW[ [\"IMP_MORTDUE\", \"nor_IMP_MORTDUE\" ] ]\n",
    "print( X_TEST.head() ) \n",
    "print( \"\\n\\n\")\n",
    "\n"
   ]
  },
  {
   "cell_type": "code",
   "execution_count": 13,
   "metadata": {},
   "outputs": [
    {
     "name": "stdout",
     "output_type": "stream",
     "text": [
      "count      5960.000000\n",
      "mean      72869.716644\n",
      "std       42579.485794\n",
      "min        2063.000000\n",
      "25%       48139.000000\n",
      "50%       63508.000000\n",
      "75%       88200.250000\n",
      "max      399550.000000\n",
      "Name: IMP_MORTDUE, dtype: float64\n"
     ]
    }
   ],
   "source": [
    "print( X_TEST[\"IMP_MORTDUE\"].describe() )"
   ]
  },
  {
   "cell_type": "code",
   "execution_count": 14,
   "metadata": {},
   "outputs": [
    {
     "name": "stdout",
     "output_type": "stream",
     "text": [
      "\n",
      "\n",
      "\n",
      "   IMP_MORTDUE  nor_IMP_MORTDUE  calc_IMP_MORTDUE\n",
      "0      25860.0         0.059869          0.059869\n",
      "1      70053.0         0.171050          0.171050\n",
      "2      13500.0         0.028773          0.028773\n",
      "3      63508.0         0.154584          0.154584\n",
      "4      97800.0         0.240856          0.240856\n",
      "\n",
      "\n",
      "\n"
     ]
    }
   ],
   "source": [
    "print( \"\\n\\n\")\n",
    "TEMP = ( X_TEST[\"IMP_MORTDUE\"] - 2063 ) / ( 399550 - 2063)\n",
    "#TEMP = ( X_TEST[\"SepalLength\"] - 4.3 ) / ( 10000 - 4.3 )    # this is what happens when you have outliers.\n",
    "X_TEST = X_TEST.assign( calc_IMP_MORTDUE = TEMP.values )\n",
    "print( X_TEST.head() ) \n",
    "print( \"\\n\\n\")"
   ]
  },
  {
   "cell_type": "code",
   "execution_count": 15,
   "metadata": {},
   "outputs": [
    {
     "name": "stdout",
     "output_type": "stream",
     "text": [
      " STANDARDIZING THE DATA \n",
      "\n",
      "\n",
      "\n",
      "          0         1         2         3         4         5         6  \\\n",
      "0 -1.562299 -1.104139 -1.098402  0.240237 -0.280976 -0.375943 -1.017336   \n",
      "1 -1.544453 -0.066158 -0.581919 -0.241936 -0.280976  1.477341 -0.688676   \n",
      "2 -1.526606 -1.394444 -1.490930 -0.655226 -0.280976 -0.375943 -0.358023   \n",
      "3 -1.526606 -0.219883 -0.256504 -0.241936 -0.280976 -0.375943 -0.083221   \n",
      "4 -1.508759  0.585549  0.184674 -0.792990 -0.280976 -0.375943 -1.029700   \n",
      "\n",
      "          7         8         9  \n",
      "0 -0.102879 -1.230878  0.113349  \n",
      "1 -0.707574 -0.728389  0.113349  \n",
      "2 -0.102879 -1.130380  0.113349  \n",
      "3 -0.102879 -0.125403  0.113349  \n",
      "4 -0.707574 -0.728389  0.113349  \n",
      "\n",
      "\n",
      "\n"
     ]
    }
   ],
   "source": [
    "# STANDARD SCALER\n",
    "\n",
    "print(\" STANDARDIZING THE DATA \\n\\n\\n\")\n",
    "\n",
    "theScaler = StandardScaler()\n",
    "theScaler.fit( X )\n",
    "\n",
    "Y_STD = theScaler.transform( X )\n",
    "Y_STD = pd.DataFrame( Y_STD )\n",
    "print( Y_STD.head() )\n",
    "print( \"\\n\\n\")"
   ]
  },
  {
   "cell_type": "code",
   "execution_count": 16,
   "metadata": {},
   "outputs": [
    {
     "name": "stdout",
     "output_type": "stream",
     "text": [
      "   std_LOAN  std_IMP_MORTDUE  std_IMP_VALUE  std_IMP_YOJ  std_IMP_DEROG  \\\n",
      "0 -1.562299        -1.104139      -1.098402     0.240237      -0.280976   \n",
      "1 -1.544453        -0.066158      -0.581919    -0.241936      -0.280976   \n",
      "2 -1.526606        -1.394444      -1.490930    -0.655226      -0.280976   \n",
      "3 -1.526606        -0.219883      -0.256504    -0.241936      -0.280976   \n",
      "4 -1.508759         0.585549       0.184674    -0.792990      -0.280976   \n",
      "\n",
      "   std_IMP_DELINQ  std_IMP_CLAGE  std_IMP_NINQ  std_IMP_CLNO  std_IMP_DEBTINC  \n",
      "0       -0.375943      -1.017336     -0.102879     -1.230878         0.113349  \n",
      "1        1.477341      -0.688676     -0.707574     -0.728389         0.113349  \n",
      "2       -0.375943      -0.358023     -0.102879     -1.130380         0.113349  \n",
      "3       -0.375943      -0.083221     -0.102879     -0.125403         0.113349  \n",
      "4       -0.375943      -1.029700     -0.707574     -0.728389         0.113349  \n",
      "\n",
      "\n",
      "\n",
      "           std_LOAN  std_IMP_MORTDUE  std_IMP_VALUE   std_IMP_YOJ  \\\n",
      "count  5.960000e+03     5.960000e+03   5.960000e+03  5.960000e+03   \n",
      "mean  -1.525998e-16    -3.624245e-16   3.814995e-17 -1.192186e-16   \n",
      "std    1.000084e+00     1.000084e+00   1.000084e+00  1.000084e+00   \n",
      "min   -1.562299e+00    -1.663070e+00  -1.643897e+00 -1.206280e+00   \n",
      "25%   -6.699632e-01    -5.808617e-01  -6.155102e-01 -7.929898e-01   \n",
      "50%   -2.059485e-01    -2.198829e-01  -2.318444e-01 -2.419357e-01   \n",
      "75%    4.186868e-01     3.600753e-01   3.078347e-01  4.468820e-01   \n",
      "max    6.361645e+00     7.672890e+00   1.326439e+01  4.442025e+00   \n",
      "\n",
      "       std_IMP_DEROG  std_IMP_DELINQ  std_IMP_CLAGE  std_IMP_NINQ  \\\n",
      "count   5.960000e+03    5.960000e+03   5.960000e+03  5.960000e+03   \n",
      "mean    1.371014e-17    5.960929e-17  -2.193622e-16  3.576557e-17   \n",
      "std     1.000084e+00    1.000084e+00   1.000084e+00  1.000084e+00   \n",
      "min    -2.809762e-01   -3.759430e-01  -2.146504e+00 -7.075740e-01   \n",
      "25%    -2.809762e-01   -3.759430e-01  -7.420665e-01 -7.075740e-01   \n",
      "50%    -2.809762e-01   -3.759430e-01  -8.322087e-02 -1.028793e-01   \n",
      "75%    -2.809762e-01   -3.759430e-01   5.714341e-01  5.018155e-01   \n",
      "max     1.224421e+01    1.352369e+01   1.183229e+01  9.572237e+00   \n",
      "\n",
      "       std_IMP_CLNO  std_IMP_DEBTINC  \n",
      "count  5.960000e+03      5960.000000  \n",
      "mean   5.722492e-17         0.000000  \n",
      "std    1.000084e+00         1.000084  \n",
      "min   -2.135358e+00        -4.380362  \n",
      "25%   -6.278917e-01        -0.425189  \n",
      "50%   -1.254030e-01         0.113349  \n",
      "75%    4.775835e-01         0.514826  \n",
      "max    4.999982e+00        22.143972  \n",
      "\n",
      "\n",
      "\n"
     ]
    }
   ],
   "source": [
    "varNames_std = []\n",
    "for i in varNames :\n",
    "    newName = \"std_\" + i\n",
    "    varNames_std.append( newName )\n",
    "\n",
    "Y_STD.columns = varNames_std\n",
    "print( Y_STD.head() )\n",
    "print( \"\\n\\n\")\n",
    "\n",
    "print( Y_STD.describe() )\n",
    "print( \"\\n\\n\")\n"
   ]
  },
  {
   "cell_type": "code",
   "execution_count": 17,
   "metadata": {},
   "outputs": [
    {
     "name": "stdout",
     "output_type": "stream",
     "text": [
      "   std_LOAN  std_IMP_MORTDUE  std_IMP_VALUE  std_IMP_YOJ  std_IMP_DEROG  \\\n",
      "0 -1.562299        -1.104139      -1.098402     0.240237      -0.280976   \n",
      "1 -1.544453        -0.066158      -0.581919    -0.241936      -0.280976   \n",
      "2 -1.526606        -1.394444      -1.490930    -0.655226      -0.280976   \n",
      "3 -1.526606        -0.219883      -0.256504    -0.241936      -0.280976   \n",
      "4 -1.508759         0.585549       0.184674    -0.792990      -0.280976   \n",
      "\n",
      "   std_IMP_DELINQ  std_IMP_CLAGE  std_IMP_NINQ  std_IMP_CLNO  std_IMP_DEBTINC  \\\n",
      "0       -0.375943      -1.017336     -0.102879     -1.230878         0.113349   \n",
      "1        1.477341      -0.688676     -0.707574     -0.728389         0.113349   \n",
      "2       -0.375943      -0.358023     -0.102879     -1.130380         0.113349   \n",
      "3       -0.375943      -0.083221     -0.102879     -0.125403         0.113349   \n",
      "4       -0.375943      -1.029700     -0.707574     -0.728389         0.113349   \n",
      "\n",
      "   TARGET  TARGET2   REASON     JOB  \n",
      "0       1    641.0  HomeImp   Other  \n",
      "1       1   1109.0  HomeImp   Other  \n",
      "2       1    767.0  HomeImp   Other  \n",
      "3       1   1425.0      NaN     NaN  \n",
      "4       0      NaN  HomeImp  Office  \n",
      "\n",
      "\n",
      "\n",
      "   LOAN  IMP_MORTDUE  IMP_VALUE  IMP_YOJ  IMP_DEROG  IMP_DELINQ   IMP_CLAGE  \\\n",
      "0  1100      25860.0    39025.0     10.5        0.0         0.0   94.366667   \n",
      "1  1300      70053.0    68400.0      7.0        0.0         2.0  121.833333   \n",
      "2  1500      13500.0    16700.0      4.0        0.0         0.0  149.466667   \n",
      "3  1500      63508.0    86908.0      7.0        0.0         0.0  172.432355   \n",
      "4  1700      97800.0   112000.0      3.0        0.0         0.0   93.333333   \n",
      "\n",
      "   IMP_NINQ  IMP_CLNO  IMP_DEBTINC  std_LOAN  std_IMP_MORTDUE  std_IMP_VALUE  \\\n",
      "0       1.0       9.0    34.880462 -1.562299        -1.104139      -1.098402   \n",
      "1       0.0      14.0    34.880462 -1.544453        -0.066158      -0.581919   \n",
      "2       1.0      10.0    34.880462 -1.526606        -1.394444      -1.490930   \n",
      "3       1.0      20.0    34.880462 -1.526606        -0.219883      -0.256504   \n",
      "4       0.0      14.0    34.880462 -1.508759         0.585549       0.184674   \n",
      "\n",
      "   std_IMP_YOJ  std_IMP_DEROG  std_IMP_DELINQ  std_IMP_CLAGE  std_IMP_NINQ  \\\n",
      "0     0.240237      -0.280976       -0.375943      -1.017336     -0.102879   \n",
      "1    -0.241936      -0.280976        1.477341      -0.688676     -0.707574   \n",
      "2    -0.655226      -0.280976       -0.375943      -0.358023     -0.102879   \n",
      "3    -0.241936      -0.280976       -0.375943      -0.083221     -0.102879   \n",
      "4    -0.792990      -0.280976       -0.375943      -1.029700     -0.707574   \n",
      "\n",
      "   std_IMP_CLNO  std_IMP_DEBTINC  TARGET  TARGET2   REASON     JOB  \n",
      "0     -1.230878         0.113349       1    641.0  HomeImp   Other  \n",
      "1     -0.728389         0.113349       1   1109.0  HomeImp   Other  \n",
      "2     -1.130380         0.113349       1    767.0  HomeImp   Other  \n",
      "3     -0.125403         0.113349       1   1425.0      NaN     NaN  \n",
      "4     -0.728389         0.113349       0      NaN  HomeImp  Office  \n",
      "\n",
      "\n",
      "\n"
     ]
    }
   ],
   "source": [
    "Y_STD[ \"TARGET\" ] = df.TARGET_BAD_FLAG\n",
    "Y_STD[ \"TARGET2\" ] = df.TARGET_LOSS_AMT\n",
    "Y_STD[ \"REASON\" ] = df.REASON\n",
    "Y_STD[ \"JOB\" ] = df.JOB\n",
    "\n",
    "print( Y_STD.head() )\n",
    "print( \"\\n\\n\")\n",
    "\n",
    "\n",
    "Y_NEW = pd.concat([ X , Y_STD ], axis=1 )\n",
    "print(Y_NEW.head() )\n",
    "print( \"\\n\\n\")\n",
    "\n",
    "\n"
   ]
  },
  {
   "cell_type": "code",
   "execution_count": 18,
   "metadata": {},
   "outputs": [
    {
     "name": "stdout",
     "output_type": "stream",
     "text": [
      "   IMP_MORTDUE  std_IMP_MORTDUE\n",
      "0      25860.0        -1.104139\n",
      "1      70053.0        -0.066158\n",
      "2      13500.0        -1.394444\n",
      "3      63508.0        -0.219883\n",
      "4      97800.0         0.585549\n",
      "\n",
      "\n",
      "\n",
      "count      5960.000000\n",
      "mean      72869.716644\n",
      "std       42579.485794\n",
      "min        2063.000000\n",
      "25%       48139.000000\n",
      "50%       63508.000000\n",
      "75%       88200.250000\n",
      "max      399550.000000\n",
      "Name: IMP_MORTDUE, dtype: float64\n",
      "\n",
      "\n",
      "\n"
     ]
    }
   ],
   "source": [
    "\n",
    "Y_TEST = Y_NEW[ [\"IMP_MORTDUE\", \"std_IMP_MORTDUE\" ] ]\n",
    "print( Y_TEST.head() ) \n",
    "print( \"\\n\\n\")\n",
    "print( Y_TEST[\"IMP_MORTDUE\"].describe() )\n",
    "print( \"\\n\\n\")\n"
   ]
  },
  {
   "cell_type": "code",
   "execution_count": 19,
   "metadata": {},
   "outputs": [
    {
     "name": "stdout",
     "output_type": "stream",
     "text": [
      "   IMP_MORTDUE  std_IMP_MORTDUE  calc_IMP_MORTDUE\n",
      "0      25860.0        -1.104139         -1.104046\n",
      "1      70053.0        -0.066158         -0.066152\n",
      "2      13500.0        -1.394444         -1.394327\n",
      "3      63508.0        -0.219883         -0.219864\n",
      "4      97800.0         0.585549          0.585500\n",
      "\n",
      "\n",
      "\n"
     ]
    }
   ],
   "source": [
    "TEMP = ( Y_TEST[\"IMP_MORTDUE\"] - 72869.716644) / 42579.485794\n",
    "Y_TEST = Y_TEST.assign( calc_IMP_MORTDUE = TEMP.values )\n",
    "print( Y_TEST.head() ) \n",
    "print( \"\\n\\n\")"
   ]
  },
  {
   "cell_type": "code",
   "execution_count": 20,
   "metadata": {},
   "outputs": [
    {
     "name": "stdout",
     "output_type": "stream",
     "text": [
      "[NbConvertApp] Converting notebook Assignmentunit99_Kwok.ipynb to pdf\n",
      "[NbConvertApp] Writing 53814 bytes to notebook.tex\n",
      "[NbConvertApp] Building PDF\n",
      "[NbConvertApp] Running xelatex 3 times: ['xelatex', 'notebook.tex', '-quiet']\n",
      "[NbConvertApp] Running bibtex 1 time: ['bibtex', 'notebook']\n",
      "[NbConvertApp] WARNING | bibtex had problems, most likely because there were no citations\n",
      "[NbConvertApp] PDF successfully created\n",
      "[NbConvertApp] Writing 52172 bytes to Assignmentunit99_Kwok.pdf\n"
     ]
    }
   ],
   "source": [
    "!jupyter nbconvert --to pdf Assignmentunit99_Kwok.ipynb"
   ]
  }
 ],
 "metadata": {
  "kernelspec": {
   "display_name": "Python 3",
   "language": "python",
   "name": "python3"
  },
  "language_info": {
   "codemirror_mode": {
    "name": "ipython",
    "version": 3
   },
   "file_extension": ".py",
   "mimetype": "text/x-python",
   "name": "python",
   "nbconvert_exporter": "python",
   "pygments_lexer": "ipython3",
   "version": "3.12.1"
  }
 },
 "nbformat": 4,
 "nbformat_minor": 2
}
